{
 "cells": [
  {
   "cell_type": "markdown",
   "id": "c67dca33-e2c2-4f18-829a-06e63dbd003b",
   "metadata": {},
   "source": [
    "<h1> Data Science Tools and Ecosystem </h1>"
   ]
  },
  {
   "cell_type": "markdown",
   "id": "c7276b97-4b96-488b-b739-2caea08e2038",
   "metadata": {},
   "source": [
    "<p1> In this notebook, Data Science Tools and Ecosystem are summarized. <p1>"
   ]
  },
  {
   "cell_type": "markdown",
   "id": "12b1105e-3702-48fa-9ef7-76ed0199c0aa",
   "metadata": {},
   "source": [
    "<p2> Some of the popular languages that Data Scientists use are:</p2>\n",
    "<ol>\n",
    "    <li>Python</li>\n",
    "    <li>R</li>\n",
    "    <li>Julia</li>\n",
    "</ol>"
   ]
  },
  {
   "cell_type": "markdown",
   "id": "2dd3e9b4-7227-4d35-bbb9-d2d26fdb09f3",
   "metadata": {},
   "source": [
    "<p>Some of the commonly used libraries used by Data Scientists include:</p>"
   ]
  },
  {
   "cell_type": "markdown",
   "id": "e8abc197-cbfd-4dc1-b90b-2cc6022fbbbb",
   "metadata": {},
   "source": [
    "<ol>\n",
    "    <li>Pandas</li>\n",
    "    <li>Numpy</li>\n",
    "    <li>TensorFlow</li>\n",
    "</ol>"
   ]
  },
  {
   "cell_type": "markdown",
   "id": "6e9bdabe-226d-4ecf-b784-fec61f91293a",
   "metadata": {},
   "source": [
    "<table style=\"text-align: left; \">\n",
    "    <tr>\n",
    "    <th style=\"font-size: 20px\">Data Science Tools</th>\n",
    "    </tr>\n",
    "    <tr><td>Python</td></tr>\n",
    "    <tr><td>TensorFlow</td></tr>\n",
    "    <tr><td>Matplotbib</td></tr>\n",
    "</table>\n",
    "\n"
   ]
  },
  {
   "cell_type": "markdown",
   "id": "974f7566-aa33-46c4-847a-7a9337f75393",
   "metadata": {},
   "source": [
    "<h3>Below are a few examples of evaluating arithmetic expressions in Python</h3>"
   ]
  },
  {
   "cell_type": "markdown",
   "id": "1fd9c59d-7998-4d1c-9b70-0265abccd0b3",
   "metadata": {},
   "source": [
    "<!-- This a simple arithmetic expression to mutiply then add integers -->\n",
    "(3*4) + 5"
   ]
  },
  {
   "cell_type": "code",
   "execution_count": 3,
   "id": "5a974255-9d7a-43ab-a49d-b2cdc74cbfdb",
   "metadata": {
    "tags": []
   },
   "outputs": [
    {
     "data": {
      "text/plain": [
       "17"
      ]
     },
     "execution_count": 3,
     "metadata": {},
     "output_type": "execute_result"
    }
   ],
   "source": []
  },
  {
   "cell_type": "code",
   "execution_count": 5,
   "id": "fb9bd0b9-6888-4d03-b0e0-b4b08c696158",
   "metadata": {
    "tags": []
   },
   "outputs": [
    {
     "name": "stdout",
     "output_type": "stream",
     "text": [
      "3.3333333333333335\n"
     ]
    }
   ],
   "source": [
    "# This will convert 200 minutes to hours by diving by 60\n",
    "hours = 200 / 60\n",
    "print(hours)"
   ]
  },
  {
   "cell_type": "markdown",
   "id": "e1f15ba9-e053-4ea9-886d-89a0fd42744e",
   "metadata": {},
   "source": [
    "<p><strong>Objectives:</strong></p>\n",
    "<ul>\n",
    "    <li>Python</li>\n",
    "    <li>R</li>\n",
    "    <li>Java</li>\n",
    "    <li>SQL</li>\n",
    "    <li>C++</li>\n",
    "</ul>"
   ]
  },
  {
   "cell_type": "markdown",
   "id": "156a083a-b799-4208-859f-9e5d28a91272",
   "metadata": {},
   "source": [
    "<h2>Author</h2>"
   ]
  },
  {
   "cell_type": "markdown",
   "id": "1c0af4bb-e4fd-492a-9647-a16922b752aa",
   "metadata": {},
   "source": [
    "<p>Akinwumi Ayomide</p>"
   ]
  },
  {
   "cell_type": "code",
   "execution_count": null,
   "id": "552b877a-d0a7-4e65-9083-1ca27774a6a7",
   "metadata": {},
   "outputs": [],
   "source": []
  }
 ],
 "metadata": {
  "kernelspec": {
   "display_name": "Python",
   "language": "python",
   "name": "conda-env-python-py"
  },
  "language_info": {
   "codemirror_mode": {
    "name": "ipython",
    "version": 3
   },
   "file_extension": ".py",
   "mimetype": "text/x-python",
   "name": "python",
   "nbconvert_exporter": "python",
   "pygments_lexer": "ipython3",
   "version": "3.7.12"
  }
 },
 "nbformat": 4,
 "nbformat_minor": 5
}
